{
 "cells": [
  {
   "cell_type": "code",
   "execution_count": 105,
   "metadata": {},
   "outputs": [
    {
     "name": "stdout",
     "output_type": "stream",
     "text": [
      "Training score: 0.38281404477072045\n",
      "Testing score: 0.3750233021765502\n",
      "Using 4 features and 1 (price)target: 'Bedroom count', 'Living surface area', 'Landplot area', and 'Terrace'.\n"
     ]
    }
   ],
   "source": [
    "import pandas as pd\n",
    "import numpy as np\n",
    "import matplotlib.pyplot as plt\n",
    "from sklearn.model_selection import train_test_split\n",
    "from sklearn.linear_model import LinearRegression\n",
    "\n",
    "df = pd.read_csv('../data/merged_data.csv')\n",
    "reg = LinearRegression()\n",
    "\n",
    "df['landplot'].fillna(0, inplace=True)\n",
    "df['facades'].fillna(0, inplace=True)\n",
    "df['Living area'].fillna(0, inplace=True)\n",
    "\n",
    "X = df.drop(['price', 'Zip code', 'Kitchen', 'type', 'subtype', 'condition', 'city', 'province',], axis=1).to_numpy()\n",
    "y = df['price'].to_numpy()\n",
    "y = y.reshape(-1, 1)\n",
    "X_train, X_test, y_train, y_test = train_test_split(X, y, test_size=0.2, random_state=1)\n",
    "\n",
    "reg.fit(X_train, y_train)\n",
    "print(\"Training score:\", reg.score(X_train, y_train))\n",
    "y_prediction = reg.predict(X_test)\n",
    "print(\"Testing score:\", reg.score(X_test, y_test))\n",
    "\n",
    "print(\"Using 4 features and 1 (price)target: 'Bedroom count', 'Living surface area', 'Landplot area', and 'Terrace'.\")\n"
   ]
  }
 ],
 "metadata": {
  "kernelspec": {
   "display_name": ".analysis_environment",
   "language": "python",
   "name": "python3"
  },
  "language_info": {
   "codemirror_mode": {
    "name": "ipython",
    "version": 3
   },
   "file_extension": ".py",
   "mimetype": "text/x-python",
   "name": "python",
   "nbconvert_exporter": "python",
   "pygments_lexer": "ipython3",
   "version": "3.11.4"
  },
  "orig_nbformat": 4
 },
 "nbformat": 4,
 "nbformat_minor": 2
}
